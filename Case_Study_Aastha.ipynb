{
  "nbformat": 4,
  "nbformat_minor": 0,
  "metadata": {
    "colab": {
      "provenance": []
    },
    "kernelspec": {
      "name": "python3",
      "display_name": "Python 3"
    },
    "language_info": {
      "name": "python"
    }
  },
  "cells": [
    {
      "cell_type": "code",
      "execution_count": 1,
      "metadata": {
        "id": "gOFz1DY_MYPy"
      },
      "outputs": [],
      "source": [
        "import pandas as pd\n",
        "import numpy as np\n",
        "import matplotlib.pyplot as plt\n",
        "import os"
      ]
    },
    {
      "cell_type": "markdown",
      "source": [
        "## **DATA COLLECTION**\n",
        "\n",
        "1. Read CSV files\n",
        "2. Merge 10 transaction files into a single dataset.\n"
      ],
      "metadata": {
        "id": "Ez-iH0OzeA3a"
      }
    },
    {
      "cell_type": "code",
      "source": [
        "loc=pd.read_csv(\"location.csv\")\n",
        "loc.head(5)"
      ],
      "metadata": {
        "colab": {
          "base_uri": "https://localhost:8080/",
          "height": 206
        },
        "id": "TQYXdzSPNSjg",
        "outputId": "e260a41c-0b56-464f-ee5f-b1c7ed2a6114"
      },
      "execution_count": 2,
      "outputs": [
        {
          "output_type": "execute_result",
          "data": {
            "text/plain": [
              "   store_location_id  region          province        city  postal_code  \\\n",
              "0               1794     NaN           ONTARIO      LONDON          NaN   \n",
              "1                 42     NaN           ONTARIO     TORONTO          NaN   \n",
              "2               7218     NaN           ALBERTA  SLAVE LAKE          NaN   \n",
              "3               7196     NaN  BRITISH COLUMBIA    VICTORIA          NaN   \n",
              "4               7167     NaN  BRITISH COLUMBIA      SURREY          NaN   \n",
              "\n",
              "     banner  store_num  \n",
              "0  dc35b695       1794  \n",
              "1  dc35b695         42  \n",
              "2   6e36648       7218  \n",
              "3   6e36648       7196  \n",
              "4   6e36648       7167  "
            ],
            "text/html": [
              "\n",
              "  <div id=\"df-05500bca-de90-4cfe-9b72-9f3dc17e2892\" class=\"colab-df-container\">\n",
              "    <div>\n",
              "<style scoped>\n",
              "    .dataframe tbody tr th:only-of-type {\n",
              "        vertical-align: middle;\n",
              "    }\n",
              "\n",
              "    .dataframe tbody tr th {\n",
              "        vertical-align: top;\n",
              "    }\n",
              "\n",
              "    .dataframe thead th {\n",
              "        text-align: right;\n",
              "    }\n",
              "</style>\n",
              "<table border=\"1\" class=\"dataframe\">\n",
              "  <thead>\n",
              "    <tr style=\"text-align: right;\">\n",
              "      <th></th>\n",
              "      <th>store_location_id</th>\n",
              "      <th>region</th>\n",
              "      <th>province</th>\n",
              "      <th>city</th>\n",
              "      <th>postal_code</th>\n",
              "      <th>banner</th>\n",
              "      <th>store_num</th>\n",
              "    </tr>\n",
              "  </thead>\n",
              "  <tbody>\n",
              "    <tr>\n",
              "      <th>0</th>\n",
              "      <td>1794</td>\n",
              "      <td>NaN</td>\n",
              "      <td>ONTARIO</td>\n",
              "      <td>LONDON</td>\n",
              "      <td>NaN</td>\n",
              "      <td>dc35b695</td>\n",
              "      <td>1794</td>\n",
              "    </tr>\n",
              "    <tr>\n",
              "      <th>1</th>\n",
              "      <td>42</td>\n",
              "      <td>NaN</td>\n",
              "      <td>ONTARIO</td>\n",
              "      <td>TORONTO</td>\n",
              "      <td>NaN</td>\n",
              "      <td>dc35b695</td>\n",
              "      <td>42</td>\n",
              "    </tr>\n",
              "    <tr>\n",
              "      <th>2</th>\n",
              "      <td>7218</td>\n",
              "      <td>NaN</td>\n",
              "      <td>ALBERTA</td>\n",
              "      <td>SLAVE LAKE</td>\n",
              "      <td>NaN</td>\n",
              "      <td>6e36648</td>\n",
              "      <td>7218</td>\n",
              "    </tr>\n",
              "    <tr>\n",
              "      <th>3</th>\n",
              "      <td>7196</td>\n",
              "      <td>NaN</td>\n",
              "      <td>BRITISH COLUMBIA</td>\n",
              "      <td>VICTORIA</td>\n",
              "      <td>NaN</td>\n",
              "      <td>6e36648</td>\n",
              "      <td>7196</td>\n",
              "    </tr>\n",
              "    <tr>\n",
              "      <th>4</th>\n",
              "      <td>7167</td>\n",
              "      <td>NaN</td>\n",
              "      <td>BRITISH COLUMBIA</td>\n",
              "      <td>SURREY</td>\n",
              "      <td>NaN</td>\n",
              "      <td>6e36648</td>\n",
              "      <td>7167</td>\n",
              "    </tr>\n",
              "  </tbody>\n",
              "</table>\n",
              "</div>\n",
              "    <div class=\"colab-df-buttons\">\n",
              "\n",
              "  <div class=\"colab-df-container\">\n",
              "    <button class=\"colab-df-convert\" onclick=\"convertToInteractive('df-05500bca-de90-4cfe-9b72-9f3dc17e2892')\"\n",
              "            title=\"Convert this dataframe to an interactive table.\"\n",
              "            style=\"display:none;\">\n",
              "\n",
              "  <svg xmlns=\"http://www.w3.org/2000/svg\" height=\"24px\" viewBox=\"0 -960 960 960\">\n",
              "    <path d=\"M120-120v-720h720v720H120Zm60-500h600v-160H180v160Zm220 220h160v-160H400v160Zm0 220h160v-160H400v160ZM180-400h160v-160H180v160Zm440 0h160v-160H620v160ZM180-180h160v-160H180v160Zm440 0h160v-160H620v160Z\"/>\n",
              "  </svg>\n",
              "    </button>\n",
              "\n",
              "  <style>\n",
              "    .colab-df-container {\n",
              "      display:flex;\n",
              "      gap: 12px;\n",
              "    }\n",
              "\n",
              "    .colab-df-convert {\n",
              "      background-color: #E8F0FE;\n",
              "      border: none;\n",
              "      border-radius: 50%;\n",
              "      cursor: pointer;\n",
              "      display: none;\n",
              "      fill: #1967D2;\n",
              "      height: 32px;\n",
              "      padding: 0 0 0 0;\n",
              "      width: 32px;\n",
              "    }\n",
              "\n",
              "    .colab-df-convert:hover {\n",
              "      background-color: #E2EBFA;\n",
              "      box-shadow: 0px 1px 2px rgba(60, 64, 67, 0.3), 0px 1px 3px 1px rgba(60, 64, 67, 0.15);\n",
              "      fill: #174EA6;\n",
              "    }\n",
              "\n",
              "    .colab-df-buttons div {\n",
              "      margin-bottom: 4px;\n",
              "    }\n",
              "\n",
              "    [theme=dark] .colab-df-convert {\n",
              "      background-color: #3B4455;\n",
              "      fill: #D2E3FC;\n",
              "    }\n",
              "\n",
              "    [theme=dark] .colab-df-convert:hover {\n",
              "      background-color: #434B5C;\n",
              "      box-shadow: 0px 1px 3px 1px rgba(0, 0, 0, 0.15);\n",
              "      filter: drop-shadow(0px 1px 2px rgba(0, 0, 0, 0.3));\n",
              "      fill: #FFFFFF;\n",
              "    }\n",
              "  </style>\n",
              "\n",
              "    <script>\n",
              "      const buttonEl =\n",
              "        document.querySelector('#df-05500bca-de90-4cfe-9b72-9f3dc17e2892 button.colab-df-convert');\n",
              "      buttonEl.style.display =\n",
              "        google.colab.kernel.accessAllowed ? 'block' : 'none';\n",
              "\n",
              "      async function convertToInteractive(key) {\n",
              "        const element = document.querySelector('#df-05500bca-de90-4cfe-9b72-9f3dc17e2892');\n",
              "        const dataTable =\n",
              "          await google.colab.kernel.invokeFunction('convertToInteractive',\n",
              "                                                    [key], {});\n",
              "        if (!dataTable) return;\n",
              "\n",
              "        const docLinkHtml = 'Like what you see? Visit the ' +\n",
              "          '<a target=\"_blank\" href=https://colab.research.google.com/notebooks/data_table.ipynb>data table notebook</a>'\n",
              "          + ' to learn more about interactive tables.';\n",
              "        element.innerHTML = '';\n",
              "        dataTable['output_type'] = 'display_data';\n",
              "        await google.colab.output.renderOutput(dataTable, element);\n",
              "        const docLink = document.createElement('div');\n",
              "        docLink.innerHTML = docLinkHtml;\n",
              "        element.appendChild(docLink);\n",
              "      }\n",
              "    </script>\n",
              "  </div>\n",
              "\n",
              "\n",
              "<div id=\"df-6c1326c8-22e7-4d09-acfc-e07caf9cca02\">\n",
              "  <button class=\"colab-df-quickchart\" onclick=\"quickchart('df-6c1326c8-22e7-4d09-acfc-e07caf9cca02')\"\n",
              "            title=\"Suggest charts.\"\n",
              "            style=\"display:none;\">\n",
              "\n",
              "<svg xmlns=\"http://www.w3.org/2000/svg\" height=\"24px\"viewBox=\"0 0 24 24\"\n",
              "     width=\"24px\">\n",
              "    <g>\n",
              "        <path d=\"M19 3H5c-1.1 0-2 .9-2 2v14c0 1.1.9 2 2 2h14c1.1 0 2-.9 2-2V5c0-1.1-.9-2-2-2zM9 17H7v-7h2v7zm4 0h-2V7h2v10zm4 0h-2v-4h2v4z\"/>\n",
              "    </g>\n",
              "</svg>\n",
              "  </button>\n",
              "\n",
              "<style>\n",
              "  .colab-df-quickchart {\n",
              "    background-color: #E8F0FE;\n",
              "    border: none;\n",
              "    border-radius: 50%;\n",
              "    cursor: pointer;\n",
              "    display: none;\n",
              "    fill: #1967D2;\n",
              "    height: 32px;\n",
              "    padding: 0 0 0 0;\n",
              "    width: 32px;\n",
              "  }\n",
              "\n",
              "  .colab-df-quickchart:hover {\n",
              "    background-color: #E2EBFA;\n",
              "    box-shadow: 0px 1px 2px rgba(60, 64, 67, 0.3), 0px 1px 3px 1px rgba(60, 64, 67, 0.15);\n",
              "    fill: #174EA6;\n",
              "  }\n",
              "\n",
              "  [theme=dark] .colab-df-quickchart {\n",
              "    background-color: #3B4455;\n",
              "    fill: #D2E3FC;\n",
              "  }\n",
              "\n",
              "  [theme=dark] .colab-df-quickchart:hover {\n",
              "    background-color: #434B5C;\n",
              "    box-shadow: 0px 1px 3px 1px rgba(0, 0, 0, 0.15);\n",
              "    filter: drop-shadow(0px 1px 2px rgba(0, 0, 0, 0.3));\n",
              "    fill: #FFFFFF;\n",
              "  }\n",
              "</style>\n",
              "\n",
              "  <script>\n",
              "    async function quickchart(key) {\n",
              "      const charts = await google.colab.kernel.invokeFunction(\n",
              "          'suggestCharts', [key], {});\n",
              "    }\n",
              "    (() => {\n",
              "      let quickchartButtonEl =\n",
              "        document.querySelector('#df-6c1326c8-22e7-4d09-acfc-e07caf9cca02 button');\n",
              "      quickchartButtonEl.style.display =\n",
              "        google.colab.kernel.accessAllowed ? 'block' : 'none';\n",
              "    })();\n",
              "  </script>\n",
              "</div>\n",
              "    </div>\n",
              "  </div>\n"
            ]
          },
          "metadata": {},
          "execution_count": 2
        }
      ]
    },
    {
      "cell_type": "code",
      "source": [
        "prd=pd.read_csv(\"product.csv\",error_bad_lines=False)\n",
        "prd.head(5)"
      ],
      "metadata": {
        "colab": {
          "base_uri": "https://localhost:8080/",
          "height": 295
        },
        "id": "wiapft8aNatv",
        "outputId": "5fe750e0-9401-49cc-b5fd-e34a8e149cb4"
      },
      "execution_count": 5,
      "outputs": [
        {
          "output_type": "stream",
          "name": "stderr",
          "text": [
            "<ipython-input-5-7727f092a5be>:1: FutureWarning: The error_bad_lines argument has been deprecated and will be removed in a future version. Use on_bad_lines in the future.\n",
            "\n",
            "\n",
            "  prd=pd.read_csv(\"product.csv\",error_bad_lines=False)\n"
          ]
        },
        {
          "output_type": "execute_result",
          "data": {
            "text/plain": [
              "   product_id  sku         upc  item_name  item_description department  \\\n",
              "0  7652613339    0  7652613339     324168               NaN   651b1068   \n",
              "1  1810063322    0  1810063322     276973               NaN   651b1068   \n",
              "2  5274585486    0  5274585486     794396               NaN   c81ba571   \n",
              "3  6978362094    0  6978362094     510386               NaN   b947a4a9   \n",
              "4  6978396053    0  6978396053     120105               NaN   b947a4a9   \n",
              "\n",
              "   category  \n",
              "0  8312aed6  \n",
              "1  7aaa7a34  \n",
              "2  54ea8364  \n",
              "3   382cf3a  \n",
              "4   382cf3a  "
            ],
            "text/html": [
              "\n",
              "  <div id=\"df-02d680d0-7566-409f-b789-68ec5cf65077\" class=\"colab-df-container\">\n",
              "    <div>\n",
              "<style scoped>\n",
              "    .dataframe tbody tr th:only-of-type {\n",
              "        vertical-align: middle;\n",
              "    }\n",
              "\n",
              "    .dataframe tbody tr th {\n",
              "        vertical-align: top;\n",
              "    }\n",
              "\n",
              "    .dataframe thead th {\n",
              "        text-align: right;\n",
              "    }\n",
              "</style>\n",
              "<table border=\"1\" class=\"dataframe\">\n",
              "  <thead>\n",
              "    <tr style=\"text-align: right;\">\n",
              "      <th></th>\n",
              "      <th>product_id</th>\n",
              "      <th>sku</th>\n",
              "      <th>upc</th>\n",
              "      <th>item_name</th>\n",
              "      <th>item_description</th>\n",
              "      <th>department</th>\n",
              "      <th>category</th>\n",
              "    </tr>\n",
              "  </thead>\n",
              "  <tbody>\n",
              "    <tr>\n",
              "      <th>0</th>\n",
              "      <td>7652613339</td>\n",
              "      <td>0</td>\n",
              "      <td>7652613339</td>\n",
              "      <td>324168</td>\n",
              "      <td>NaN</td>\n",
              "      <td>651b1068</td>\n",
              "      <td>8312aed6</td>\n",
              "    </tr>\n",
              "    <tr>\n",
              "      <th>1</th>\n",
              "      <td>1810063322</td>\n",
              "      <td>0</td>\n",
              "      <td>1810063322</td>\n",
              "      <td>276973</td>\n",
              "      <td>NaN</td>\n",
              "      <td>651b1068</td>\n",
              "      <td>7aaa7a34</td>\n",
              "    </tr>\n",
              "    <tr>\n",
              "      <th>2</th>\n",
              "      <td>5274585486</td>\n",
              "      <td>0</td>\n",
              "      <td>5274585486</td>\n",
              "      <td>794396</td>\n",
              "      <td>NaN</td>\n",
              "      <td>c81ba571</td>\n",
              "      <td>54ea8364</td>\n",
              "    </tr>\n",
              "    <tr>\n",
              "      <th>3</th>\n",
              "      <td>6978362094</td>\n",
              "      <td>0</td>\n",
              "      <td>6978362094</td>\n",
              "      <td>510386</td>\n",
              "      <td>NaN</td>\n",
              "      <td>b947a4a9</td>\n",
              "      <td>382cf3a</td>\n",
              "    </tr>\n",
              "    <tr>\n",
              "      <th>4</th>\n",
              "      <td>6978396053</td>\n",
              "      <td>0</td>\n",
              "      <td>6978396053</td>\n",
              "      <td>120105</td>\n",
              "      <td>NaN</td>\n",
              "      <td>b947a4a9</td>\n",
              "      <td>382cf3a</td>\n",
              "    </tr>\n",
              "  </tbody>\n",
              "</table>\n",
              "</div>\n",
              "    <div class=\"colab-df-buttons\">\n",
              "\n",
              "  <div class=\"colab-df-container\">\n",
              "    <button class=\"colab-df-convert\" onclick=\"convertToInteractive('df-02d680d0-7566-409f-b789-68ec5cf65077')\"\n",
              "            title=\"Convert this dataframe to an interactive table.\"\n",
              "            style=\"display:none;\">\n",
              "\n",
              "  <svg xmlns=\"http://www.w3.org/2000/svg\" height=\"24px\" viewBox=\"0 -960 960 960\">\n",
              "    <path d=\"M120-120v-720h720v720H120Zm60-500h600v-160H180v160Zm220 220h160v-160H400v160Zm0 220h160v-160H400v160ZM180-400h160v-160H180v160Zm440 0h160v-160H620v160ZM180-180h160v-160H180v160Zm440 0h160v-160H620v160Z\"/>\n",
              "  </svg>\n",
              "    </button>\n",
              "\n",
              "  <style>\n",
              "    .colab-df-container {\n",
              "      display:flex;\n",
              "      gap: 12px;\n",
              "    }\n",
              "\n",
              "    .colab-df-convert {\n",
              "      background-color: #E8F0FE;\n",
              "      border: none;\n",
              "      border-radius: 50%;\n",
              "      cursor: pointer;\n",
              "      display: none;\n",
              "      fill: #1967D2;\n",
              "      height: 32px;\n",
              "      padding: 0 0 0 0;\n",
              "      width: 32px;\n",
              "    }\n",
              "\n",
              "    .colab-df-convert:hover {\n",
              "      background-color: #E2EBFA;\n",
              "      box-shadow: 0px 1px 2px rgba(60, 64, 67, 0.3), 0px 1px 3px 1px rgba(60, 64, 67, 0.15);\n",
              "      fill: #174EA6;\n",
              "    }\n",
              "\n",
              "    .colab-df-buttons div {\n",
              "      margin-bottom: 4px;\n",
              "    }\n",
              "\n",
              "    [theme=dark] .colab-df-convert {\n",
              "      background-color: #3B4455;\n",
              "      fill: #D2E3FC;\n",
              "    }\n",
              "\n",
              "    [theme=dark] .colab-df-convert:hover {\n",
              "      background-color: #434B5C;\n",
              "      box-shadow: 0px 1px 3px 1px rgba(0, 0, 0, 0.15);\n",
              "      filter: drop-shadow(0px 1px 2px rgba(0, 0, 0, 0.3));\n",
              "      fill: #FFFFFF;\n",
              "    }\n",
              "  </style>\n",
              "\n",
              "    <script>\n",
              "      const buttonEl =\n",
              "        document.querySelector('#df-02d680d0-7566-409f-b789-68ec5cf65077 button.colab-df-convert');\n",
              "      buttonEl.style.display =\n",
              "        google.colab.kernel.accessAllowed ? 'block' : 'none';\n",
              "\n",
              "      async function convertToInteractive(key) {\n",
              "        const element = document.querySelector('#df-02d680d0-7566-409f-b789-68ec5cf65077');\n",
              "        const dataTable =\n",
              "          await google.colab.kernel.invokeFunction('convertToInteractive',\n",
              "                                                    [key], {});\n",
              "        if (!dataTable) return;\n",
              "\n",
              "        const docLinkHtml = 'Like what you see? Visit the ' +\n",
              "          '<a target=\"_blank\" href=https://colab.research.google.com/notebooks/data_table.ipynb>data table notebook</a>'\n",
              "          + ' to learn more about interactive tables.';\n",
              "        element.innerHTML = '';\n",
              "        dataTable['output_type'] = 'display_data';\n",
              "        await google.colab.output.renderOutput(dataTable, element);\n",
              "        const docLink = document.createElement('div');\n",
              "        docLink.innerHTML = docLinkHtml;\n",
              "        element.appendChild(docLink);\n",
              "      }\n",
              "    </script>\n",
              "  </div>\n",
              "\n",
              "\n",
              "<div id=\"df-b940cbf1-653e-40f5-b327-8d9b0ce647da\">\n",
              "  <button class=\"colab-df-quickchart\" onclick=\"quickchart('df-b940cbf1-653e-40f5-b327-8d9b0ce647da')\"\n",
              "            title=\"Suggest charts.\"\n",
              "            style=\"display:none;\">\n",
              "\n",
              "<svg xmlns=\"http://www.w3.org/2000/svg\" height=\"24px\"viewBox=\"0 0 24 24\"\n",
              "     width=\"24px\">\n",
              "    <g>\n",
              "        <path d=\"M19 3H5c-1.1 0-2 .9-2 2v14c0 1.1.9 2 2 2h14c1.1 0 2-.9 2-2V5c0-1.1-.9-2-2-2zM9 17H7v-7h2v7zm4 0h-2V7h2v10zm4 0h-2v-4h2v4z\"/>\n",
              "    </g>\n",
              "</svg>\n",
              "  </button>\n",
              "\n",
              "<style>\n",
              "  .colab-df-quickchart {\n",
              "    background-color: #E8F0FE;\n",
              "    border: none;\n",
              "    border-radius: 50%;\n",
              "    cursor: pointer;\n",
              "    display: none;\n",
              "    fill: #1967D2;\n",
              "    height: 32px;\n",
              "    padding: 0 0 0 0;\n",
              "    width: 32px;\n",
              "  }\n",
              "\n",
              "  .colab-df-quickchart:hover {\n",
              "    background-color: #E2EBFA;\n",
              "    box-shadow: 0px 1px 2px rgba(60, 64, 67, 0.3), 0px 1px 3px 1px rgba(60, 64, 67, 0.15);\n",
              "    fill: #174EA6;\n",
              "  }\n",
              "\n",
              "  [theme=dark] .colab-df-quickchart {\n",
              "    background-color: #3B4455;\n",
              "    fill: #D2E3FC;\n",
              "  }\n",
              "\n",
              "  [theme=dark] .colab-df-quickchart:hover {\n",
              "    background-color: #434B5C;\n",
              "    box-shadow: 0px 1px 3px 1px rgba(0, 0, 0, 0.15);\n",
              "    filter: drop-shadow(0px 1px 2px rgba(0, 0, 0, 0.3));\n",
              "    fill: #FFFFFF;\n",
              "  }\n",
              "</style>\n",
              "\n",
              "  <script>\n",
              "    async function quickchart(key) {\n",
              "      const charts = await google.colab.kernel.invokeFunction(\n",
              "          'suggestCharts', [key], {});\n",
              "    }\n",
              "    (() => {\n",
              "      let quickchartButtonEl =\n",
              "        document.querySelector('#df-b940cbf1-653e-40f5-b327-8d9b0ce647da button');\n",
              "      quickchartButtonEl.style.display =\n",
              "        google.colab.kernel.accessAllowed ? 'block' : 'none';\n",
              "    })();\n",
              "  </script>\n",
              "</div>\n",
              "    </div>\n",
              "  </div>\n"
            ]
          },
          "metadata": {},
          "execution_count": 5
        }
      ]
    },
    {
      "cell_type": "code",
      "source": [
        "master_df= pd.DataFrame()"
      ],
      "metadata": {
        "id": "Yk1xzDgJUV3z"
      },
      "execution_count": 4,
      "outputs": []
    },
    {
      "cell_type": "code",
      "source": [
        "for file in os.listdir('/content'):\n",
        "  if file.startswith('trans'):\n",
        "    master_df= master_df.append(pd.read_csv(file))\n",
        "\n",
        "master_df.to_csv('combined_df.csv', index=False)"
      ],
      "metadata": {
        "id": "6ztI-v6pXM-e",
        "colab": {
          "base_uri": "https://localhost:8080/"
        },
        "outputId": "3ebf14f3-fda8-48d3-98c7-77340d6376fe"
      },
      "execution_count": 6,
      "outputs": [
        {
          "output_type": "stream",
          "name": "stderr",
          "text": [
            "<ipython-input-6-47825670ce37>:3: FutureWarning: The frame.append method is deprecated and will be removed from pandas in a future version. Use pandas.concat instead.\n",
            "  master_df= master_df.append(pd.read_csv(file))\n",
            "<ipython-input-6-47825670ce37>:3: FutureWarning: The frame.append method is deprecated and will be removed from pandas in a future version. Use pandas.concat instead.\n",
            "  master_df= master_df.append(pd.read_csv(file))\n",
            "<ipython-input-6-47825670ce37>:3: FutureWarning: The frame.append method is deprecated and will be removed from pandas in a future version. Use pandas.concat instead.\n",
            "  master_df= master_df.append(pd.read_csv(file))\n",
            "<ipython-input-6-47825670ce37>:3: FutureWarning: The frame.append method is deprecated and will be removed from pandas in a future version. Use pandas.concat instead.\n",
            "  master_df= master_df.append(pd.read_csv(file))\n",
            "<ipython-input-6-47825670ce37>:3: FutureWarning: The frame.append method is deprecated and will be removed from pandas in a future version. Use pandas.concat instead.\n",
            "  master_df= master_df.append(pd.read_csv(file))\n",
            "<ipython-input-6-47825670ce37>:3: FutureWarning: The frame.append method is deprecated and will be removed from pandas in a future version. Use pandas.concat instead.\n",
            "  master_df= master_df.append(pd.read_csv(file))\n",
            "<ipython-input-6-47825670ce37>:3: FutureWarning: The frame.append method is deprecated and will be removed from pandas in a future version. Use pandas.concat instead.\n",
            "  master_df= master_df.append(pd.read_csv(file))\n",
            "<ipython-input-6-47825670ce37>:3: FutureWarning: The frame.append method is deprecated and will be removed from pandas in a future version. Use pandas.concat instead.\n",
            "  master_df= master_df.append(pd.read_csv(file))\n",
            "<ipython-input-6-47825670ce37>:3: FutureWarning: The frame.append method is deprecated and will be removed from pandas in a future version. Use pandas.concat instead.\n",
            "  master_df= master_df.append(pd.read_csv(file))\n",
            "<ipython-input-6-47825670ce37>:3: FutureWarning: The frame.append method is deprecated and will be removed from pandas in a future version. Use pandas.concat instead.\n",
            "  master_df= master_df.append(pd.read_csv(file))\n"
          ]
        }
      ]
    },
    {
      "cell_type": "code",
      "source": [
        "final=pd.read_csv('combined_df.csv')"
      ],
      "metadata": {
        "id": "n_sC7kMAXzgw",
        "colab": {
          "base_uri": "https://localhost:8080/"
        },
        "outputId": "f1f958c7-a4a7-46ff-c429-2be6f36fa339"
      },
      "execution_count": 7,
      "outputs": [
        {
          "output_type": "stream",
          "name": "stderr",
          "text": [
            "<ipython-input-7-13c6bd21ac39>:1: DtypeWarning: Columns (6) have mixed types. Specify dtype option on import or set low_memory=False.\n",
            "  final=pd.read_csv('combined_df.csv')\n"
          ]
        }
      ]
    },
    {
      "cell_type": "code",
      "source": [
        "final.head(5)"
      ],
      "metadata": {
        "colab": {
          "base_uri": "https://localhost:8080/",
          "height": 206
        },
        "id": "9Cd5zrKZZlWg",
        "outputId": "18b6c655-6e42-4812-b89f-4a8333b851b3"
      },
      "execution_count": 8,
      "outputs": [
        {
          "output_type": "execute_result",
          "data": {
            "text/plain": [
              "   store_location_id    product_id   customer_id    trans_dt  sales  units  \\\n",
              "0               7296  8.537590e+10 -1.000000e+00  2015-06-26   4.97    1.0   \n",
              "1               7296  8.152600e+10  1.395380e+11  2015-05-01  44.48    1.0   \n",
              "2               7296  7.710584e+10  1.413338e+11  2015-05-24  16.00    1.0   \n",
              "3               7296  7.710588e+10  1.412401e+11  2015-07-28  10.66    1.0   \n",
              "4               7296  6.208082e+10 -1.000000e+00  2015-08-21   1.78    1.0   \n",
              "\n",
              "               transaction_id  \n",
              "0   1254872965892201506261221  \n",
              "1   2499072965092201505011441  \n",
              "2  28995729621768201505241031  \n",
              "3    738272961182201507281435  \n",
              "4  14603729620172201508211458  "
            ],
            "text/html": [
              "\n",
              "  <div id=\"df-e649c347-ebe8-4617-a6a4-109072c55fc9\" class=\"colab-df-container\">\n",
              "    <div>\n",
              "<style scoped>\n",
              "    .dataframe tbody tr th:only-of-type {\n",
              "        vertical-align: middle;\n",
              "    }\n",
              "\n",
              "    .dataframe tbody tr th {\n",
              "        vertical-align: top;\n",
              "    }\n",
              "\n",
              "    .dataframe thead th {\n",
              "        text-align: right;\n",
              "    }\n",
              "</style>\n",
              "<table border=\"1\" class=\"dataframe\">\n",
              "  <thead>\n",
              "    <tr style=\"text-align: right;\">\n",
              "      <th></th>\n",
              "      <th>store_location_id</th>\n",
              "      <th>product_id</th>\n",
              "      <th>customer_id</th>\n",
              "      <th>trans_dt</th>\n",
              "      <th>sales</th>\n",
              "      <th>units</th>\n",
              "      <th>transaction_id</th>\n",
              "    </tr>\n",
              "  </thead>\n",
              "  <tbody>\n",
              "    <tr>\n",
              "      <th>0</th>\n",
              "      <td>7296</td>\n",
              "      <td>8.537590e+10</td>\n",
              "      <td>-1.000000e+00</td>\n",
              "      <td>2015-06-26</td>\n",
              "      <td>4.97</td>\n",
              "      <td>1.0</td>\n",
              "      <td>1254872965892201506261221</td>\n",
              "    </tr>\n",
              "    <tr>\n",
              "      <th>1</th>\n",
              "      <td>7296</td>\n",
              "      <td>8.152600e+10</td>\n",
              "      <td>1.395380e+11</td>\n",
              "      <td>2015-05-01</td>\n",
              "      <td>44.48</td>\n",
              "      <td>1.0</td>\n",
              "      <td>2499072965092201505011441</td>\n",
              "    </tr>\n",
              "    <tr>\n",
              "      <th>2</th>\n",
              "      <td>7296</td>\n",
              "      <td>7.710584e+10</td>\n",
              "      <td>1.413338e+11</td>\n",
              "      <td>2015-05-24</td>\n",
              "      <td>16.00</td>\n",
              "      <td>1.0</td>\n",
              "      <td>28995729621768201505241031</td>\n",
              "    </tr>\n",
              "    <tr>\n",
              "      <th>3</th>\n",
              "      <td>7296</td>\n",
              "      <td>7.710588e+10</td>\n",
              "      <td>1.412401e+11</td>\n",
              "      <td>2015-07-28</td>\n",
              "      <td>10.66</td>\n",
              "      <td>1.0</td>\n",
              "      <td>738272961182201507281435</td>\n",
              "    </tr>\n",
              "    <tr>\n",
              "      <th>4</th>\n",
              "      <td>7296</td>\n",
              "      <td>6.208082e+10</td>\n",
              "      <td>-1.000000e+00</td>\n",
              "      <td>2015-08-21</td>\n",
              "      <td>1.78</td>\n",
              "      <td>1.0</td>\n",
              "      <td>14603729620172201508211458</td>\n",
              "    </tr>\n",
              "  </tbody>\n",
              "</table>\n",
              "</div>\n",
              "    <div class=\"colab-df-buttons\">\n",
              "\n",
              "  <div class=\"colab-df-container\">\n",
              "    <button class=\"colab-df-convert\" onclick=\"convertToInteractive('df-e649c347-ebe8-4617-a6a4-109072c55fc9')\"\n",
              "            title=\"Convert this dataframe to an interactive table.\"\n",
              "            style=\"display:none;\">\n",
              "\n",
              "  <svg xmlns=\"http://www.w3.org/2000/svg\" height=\"24px\" viewBox=\"0 -960 960 960\">\n",
              "    <path d=\"M120-120v-720h720v720H120Zm60-500h600v-160H180v160Zm220 220h160v-160H400v160Zm0 220h160v-160H400v160ZM180-400h160v-160H180v160Zm440 0h160v-160H620v160ZM180-180h160v-160H180v160Zm440 0h160v-160H620v160Z\"/>\n",
              "  </svg>\n",
              "    </button>\n",
              "\n",
              "  <style>\n",
              "    .colab-df-container {\n",
              "      display:flex;\n",
              "      gap: 12px;\n",
              "    }\n",
              "\n",
              "    .colab-df-convert {\n",
              "      background-color: #E8F0FE;\n",
              "      border: none;\n",
              "      border-radius: 50%;\n",
              "      cursor: pointer;\n",
              "      display: none;\n",
              "      fill: #1967D2;\n",
              "      height: 32px;\n",
              "      padding: 0 0 0 0;\n",
              "      width: 32px;\n",
              "    }\n",
              "\n",
              "    .colab-df-convert:hover {\n",
              "      background-color: #E2EBFA;\n",
              "      box-shadow: 0px 1px 2px rgba(60, 64, 67, 0.3), 0px 1px 3px 1px rgba(60, 64, 67, 0.15);\n",
              "      fill: #174EA6;\n",
              "    }\n",
              "\n",
              "    .colab-df-buttons div {\n",
              "      margin-bottom: 4px;\n",
              "    }\n",
              "\n",
              "    [theme=dark] .colab-df-convert {\n",
              "      background-color: #3B4455;\n",
              "      fill: #D2E3FC;\n",
              "    }\n",
              "\n",
              "    [theme=dark] .colab-df-convert:hover {\n",
              "      background-color: #434B5C;\n",
              "      box-shadow: 0px 1px 3px 1px rgba(0, 0, 0, 0.15);\n",
              "      filter: drop-shadow(0px 1px 2px rgba(0, 0, 0, 0.3));\n",
              "      fill: #FFFFFF;\n",
              "    }\n",
              "  </style>\n",
              "\n",
              "    <script>\n",
              "      const buttonEl =\n",
              "        document.querySelector('#df-e649c347-ebe8-4617-a6a4-109072c55fc9 button.colab-df-convert');\n",
              "      buttonEl.style.display =\n",
              "        google.colab.kernel.accessAllowed ? 'block' : 'none';\n",
              "\n",
              "      async function convertToInteractive(key) {\n",
              "        const element = document.querySelector('#df-e649c347-ebe8-4617-a6a4-109072c55fc9');\n",
              "        const dataTable =\n",
              "          await google.colab.kernel.invokeFunction('convertToInteractive',\n",
              "                                                    [key], {});\n",
              "        if (!dataTable) return;\n",
              "\n",
              "        const docLinkHtml = 'Like what you see? Visit the ' +\n",
              "          '<a target=\"_blank\" href=https://colab.research.google.com/notebooks/data_table.ipynb>data table notebook</a>'\n",
              "          + ' to learn more about interactive tables.';\n",
              "        element.innerHTML = '';\n",
              "        dataTable['output_type'] = 'display_data';\n",
              "        await google.colab.output.renderOutput(dataTable, element);\n",
              "        const docLink = document.createElement('div');\n",
              "        docLink.innerHTML = docLinkHtml;\n",
              "        element.appendChild(docLink);\n",
              "      }\n",
              "    </script>\n",
              "  </div>\n",
              "\n",
              "\n",
              "<div id=\"df-f5cd5709-2eb5-4605-9db7-b7b7eb78d484\">\n",
              "  <button class=\"colab-df-quickchart\" onclick=\"quickchart('df-f5cd5709-2eb5-4605-9db7-b7b7eb78d484')\"\n",
              "            title=\"Suggest charts.\"\n",
              "            style=\"display:none;\">\n",
              "\n",
              "<svg xmlns=\"http://www.w3.org/2000/svg\" height=\"24px\"viewBox=\"0 0 24 24\"\n",
              "     width=\"24px\">\n",
              "    <g>\n",
              "        <path d=\"M19 3H5c-1.1 0-2 .9-2 2v14c0 1.1.9 2 2 2h14c1.1 0 2-.9 2-2V5c0-1.1-.9-2-2-2zM9 17H7v-7h2v7zm4 0h-2V7h2v10zm4 0h-2v-4h2v4z\"/>\n",
              "    </g>\n",
              "</svg>\n",
              "  </button>\n",
              "\n",
              "<style>\n",
              "  .colab-df-quickchart {\n",
              "    background-color: #E8F0FE;\n",
              "    border: none;\n",
              "    border-radius: 50%;\n",
              "    cursor: pointer;\n",
              "    display: none;\n",
              "    fill: #1967D2;\n",
              "    height: 32px;\n",
              "    padding: 0 0 0 0;\n",
              "    width: 32px;\n",
              "  }\n",
              "\n",
              "  .colab-df-quickchart:hover {\n",
              "    background-color: #E2EBFA;\n",
              "    box-shadow: 0px 1px 2px rgba(60, 64, 67, 0.3), 0px 1px 3px 1px rgba(60, 64, 67, 0.15);\n",
              "    fill: #174EA6;\n",
              "  }\n",
              "\n",
              "  [theme=dark] .colab-df-quickchart {\n",
              "    background-color: #3B4455;\n",
              "    fill: #D2E3FC;\n",
              "  }\n",
              "\n",
              "  [theme=dark] .colab-df-quickchart:hover {\n",
              "    background-color: #434B5C;\n",
              "    box-shadow: 0px 1px 3px 1px rgba(0, 0, 0, 0.15);\n",
              "    filter: drop-shadow(0px 1px 2px rgba(0, 0, 0, 0.3));\n",
              "    fill: #FFFFFF;\n",
              "  }\n",
              "</style>\n",
              "\n",
              "  <script>\n",
              "    async function quickchart(key) {\n",
              "      const charts = await google.colab.kernel.invokeFunction(\n",
              "          'suggestCharts', [key], {});\n",
              "    }\n",
              "    (() => {\n",
              "      let quickchartButtonEl =\n",
              "        document.querySelector('#df-f5cd5709-2eb5-4605-9db7-b7b7eb78d484 button');\n",
              "      quickchartButtonEl.style.display =\n",
              "        google.colab.kernel.accessAllowed ? 'block' : 'none';\n",
              "    })();\n",
              "  </script>\n",
              "</div>\n",
              "    </div>\n",
              "  </div>\n"
            ]
          },
          "metadata": {},
          "execution_count": 8
        }
      ]
    },
    {
      "cell_type": "code",
      "source": [
        "final.shape"
      ],
      "metadata": {
        "colab": {
          "base_uri": "https://localhost:8080/"
        },
        "id": "vpJVw5c5ZoA4",
        "outputId": "4c7de51f-e4eb-4606-e0e2-7ef05eba43cf"
      },
      "execution_count": 9,
      "outputs": [
        {
          "output_type": "execute_result",
          "data": {
            "text/plain": [
              "(200000, 7)"
            ]
          },
          "metadata": {},
          "execution_count": 9
        }
      ]
    },
    {
      "cell_type": "markdown",
      "source": [
        "## **DATA CLEANING**\n",
        "\n",
        "1. Identify and address NULL values and errors within the dataset\n",
        "2. Implement corrective steps to enhance data accuracy."
      ],
      "metadata": {
        "id": "ShC2AbgTeMtk"
      }
    },
    {
      "cell_type": "code",
      "source": [
        "final.isnull().sum()"
      ],
      "metadata": {
        "colab": {
          "base_uri": "https://localhost:8080/"
        },
        "id": "rgddUgNqZ4QH",
        "outputId": "7fcb87f6-89c8-4250-be6f-eea147a37788"
      },
      "execution_count": 10,
      "outputs": [
        {
          "output_type": "execute_result",
          "data": {
            "text/plain": [
              "store_location_id      0\n",
              "product_id             0\n",
              "customer_id            0\n",
              "trans_dt               0\n",
              "sales                616\n",
              "units                593\n",
              "transaction_id         0\n",
              "dtype: int64"
            ]
          },
          "metadata": {},
          "execution_count": 10
        }
      ]
    },
    {
      "cell_type": "code",
      "source": [
        "columns_to_replace = ['sales', 'units']\n",
        "final[columns_to_replace] = final[columns_to_replace].fillna(0)"
      ],
      "metadata": {
        "id": "O-paSAMibY84"
      },
      "execution_count": 11,
      "outputs": []
    },
    {
      "cell_type": "code",
      "source": [
        "print(final)"
      ],
      "metadata": {
        "id": "U5Am1NItfo7h",
        "colab": {
          "base_uri": "https://localhost:8080/"
        },
        "outputId": "1822f613-71b8-41ac-c6a3-f9f4a12a1e74"
      },
      "execution_count": 12,
      "outputs": [
        {
          "output_type": "stream",
          "name": "stdout",
          "text": [
            "        store_location_id    product_id   customer_id    trans_dt  sales  \\\n",
            "0                    7296  8.537590e+10 -1.000000e+00  2015-06-26   4.97   \n",
            "1                    7296  8.152600e+10  1.395380e+11  2015-05-01  44.48   \n",
            "2                    7296  7.710584e+10  1.413338e+11  2015-05-24  16.00   \n",
            "3                    7296  7.710588e+10  1.412401e+11  2015-07-28  10.66   \n",
            "4                    7296  6.208082e+10 -1.000000e+00  2015-08-21   1.78   \n",
            "...                   ...           ...           ...         ...    ...   \n",
            "199995               6973  1.000000e+15 -1.000000e+00  10/26/2015  16.96   \n",
            "199996               6973  1.000000e+15 -1.000000e+00  11/25/2015  10.27   \n",
            "199997               6973  1.000000e+15 -1.000000e+00  11/12/2015   4.02   \n",
            "199998               6973  6.202001e+09 -1.000000e+00   8/11/2015   3.54   \n",
            "199999               6973  5.899700e+09 -1.000000e+00   11/6/2015   4.97   \n",
            "\n",
            "        units                transaction_id  \n",
            "0         1.0     1254872965892201506261221  \n",
            "1         1.0     2499072965092201505011441  \n",
            "2         1.0    28995729621768201505241031  \n",
            "3         1.0      738272961182201507281435  \n",
            "4         1.0    14603729620172201508211458  \n",
            "...       ...                           ...  \n",
            "199995    1.0  31565300000000000011534336.0  \n",
            "199996    1.0  31688700000000002106589184.0  \n",
            "199997    1.0  31637199999999999039504384.0  \n",
            "199998    1.0  31277499999999998633705472.0  \n",
            "199999    1.0  31619899999999998801477632.0  \n",
            "\n",
            "[200000 rows x 7 columns]\n"
          ]
        }
      ]
    },
    {
      "cell_type": "code",
      "source": [
        "final.isnull().sum()"
      ],
      "metadata": {
        "id": "ULePGXM_eZEM",
        "colab": {
          "base_uri": "https://localhost:8080/"
        },
        "outputId": "7603fb16-e72a-4006-ea41-ca716859d6ff"
      },
      "execution_count": 13,
      "outputs": [
        {
          "output_type": "execute_result",
          "data": {
            "text/plain": [
              "store_location_id    0\n",
              "product_id           0\n",
              "customer_id          0\n",
              "trans_dt             0\n",
              "sales                0\n",
              "units                0\n",
              "transaction_id       0\n",
              "dtype: int64"
            ]
          },
          "metadata": {},
          "execution_count": 13
        }
      ]
    },
    {
      "cell_type": "markdown",
      "source": [
        "## **DATA ANALYSIS**\n",
        "\n",
        "1. Merge diverse data frames.\n",
        "2. Uncover and analyze company trends using data insights.\n",
        "\n"
      ],
      "metadata": {
        "id": "L1hOM8ddeSJy"
      }
    },
    {
      "cell_type": "markdown",
      "source": [
        "To find the maximum and minimum rows by merging the tables FINAL and LOC, based on their sales."
      ],
      "metadata": {
        "id": "mS1wYhVPz06l"
      }
    },
    {
      "cell_type": "code",
      "source": [
        "#Merge COMBINED_DF with LOCATION to get store locations with sales.\n",
        "\n",
        "merged=loc.merge(final, on=['store_location_id'], suffixes=('_left','_right'))"
      ],
      "metadata": {
        "id": "WC8H5ZeGgTVs"
      },
      "execution_count": 14,
      "outputs": []
    },
    {
      "cell_type": "code",
      "source": [
        "merged.head(5)"
      ],
      "metadata": {
        "colab": {
          "base_uri": "https://localhost:8080/",
          "height": 313
        },
        "id": "BoIoYDlg88xp",
        "outputId": "94387871-f858-49bd-87b6-5ccaedbca8ec"
      },
      "execution_count": 15,
      "outputs": [
        {
          "output_type": "execute_result",
          "data": {
            "text/plain": [
              "   store_location_id  region          province    city  postal_code   banner  \\\n",
              "0               7167     NaN  BRITISH COLUMBIA  SURREY          NaN  6e36648   \n",
              "1               7167     NaN  BRITISH COLUMBIA  SURREY          NaN  6e36648   \n",
              "2               7167     NaN  BRITISH COLUMBIA  SURREY          NaN  6e36648   \n",
              "3               7167     NaN  BRITISH COLUMBIA  SURREY          NaN  6e36648   \n",
              "4               7167     NaN  BRITISH COLUMBIA  SURREY          NaN  6e36648   \n",
              "\n",
              "   store_num    product_id  customer_id    trans_dt   sales  units  \\\n",
              "0       7167  7.940009e+09         -1.0  2016-01-30    5.86    1.0   \n",
              "1       7167  1.000000e+15         -1.0  2016-01-27   38.82    1.0   \n",
              "2       7167  1.000000e+15         -1.0  2016-01-26   26.74    1.0   \n",
              "3       7167  1.000000e+15         -1.0  2016-01-28   41.81    1.0   \n",
              "4       7167  1.000000e+15         -1.0  2016-01-25  104.11    1.0   \n",
              "\n",
              "            transaction_id  \n",
              "0  61171671182201601301038  \n",
              "1  24571671182201601271218  \n",
              "2  15171671182201601261037  \n",
              "3  38671671182201601281326  \n",
              "4   9571671182201601251443  "
            ],
            "text/html": [
              "\n",
              "  <div id=\"df-a7286978-612b-4767-9cfd-7d16cf4e2708\" class=\"colab-df-container\">\n",
              "    <div>\n",
              "<style scoped>\n",
              "    .dataframe tbody tr th:only-of-type {\n",
              "        vertical-align: middle;\n",
              "    }\n",
              "\n",
              "    .dataframe tbody tr th {\n",
              "        vertical-align: top;\n",
              "    }\n",
              "\n",
              "    .dataframe thead th {\n",
              "        text-align: right;\n",
              "    }\n",
              "</style>\n",
              "<table border=\"1\" class=\"dataframe\">\n",
              "  <thead>\n",
              "    <tr style=\"text-align: right;\">\n",
              "      <th></th>\n",
              "      <th>store_location_id</th>\n",
              "      <th>region</th>\n",
              "      <th>province</th>\n",
              "      <th>city</th>\n",
              "      <th>postal_code</th>\n",
              "      <th>banner</th>\n",
              "      <th>store_num</th>\n",
              "      <th>product_id</th>\n",
              "      <th>customer_id</th>\n",
              "      <th>trans_dt</th>\n",
              "      <th>sales</th>\n",
              "      <th>units</th>\n",
              "      <th>transaction_id</th>\n",
              "    </tr>\n",
              "  </thead>\n",
              "  <tbody>\n",
              "    <tr>\n",
              "      <th>0</th>\n",
              "      <td>7167</td>\n",
              "      <td>NaN</td>\n",
              "      <td>BRITISH COLUMBIA</td>\n",
              "      <td>SURREY</td>\n",
              "      <td>NaN</td>\n",
              "      <td>6e36648</td>\n",
              "      <td>7167</td>\n",
              "      <td>7.940009e+09</td>\n",
              "      <td>-1.0</td>\n",
              "      <td>2016-01-30</td>\n",
              "      <td>5.86</td>\n",
              "      <td>1.0</td>\n",
              "      <td>61171671182201601301038</td>\n",
              "    </tr>\n",
              "    <tr>\n",
              "      <th>1</th>\n",
              "      <td>7167</td>\n",
              "      <td>NaN</td>\n",
              "      <td>BRITISH COLUMBIA</td>\n",
              "      <td>SURREY</td>\n",
              "      <td>NaN</td>\n",
              "      <td>6e36648</td>\n",
              "      <td>7167</td>\n",
              "      <td>1.000000e+15</td>\n",
              "      <td>-1.0</td>\n",
              "      <td>2016-01-27</td>\n",
              "      <td>38.82</td>\n",
              "      <td>1.0</td>\n",
              "      <td>24571671182201601271218</td>\n",
              "    </tr>\n",
              "    <tr>\n",
              "      <th>2</th>\n",
              "      <td>7167</td>\n",
              "      <td>NaN</td>\n",
              "      <td>BRITISH COLUMBIA</td>\n",
              "      <td>SURREY</td>\n",
              "      <td>NaN</td>\n",
              "      <td>6e36648</td>\n",
              "      <td>7167</td>\n",
              "      <td>1.000000e+15</td>\n",
              "      <td>-1.0</td>\n",
              "      <td>2016-01-26</td>\n",
              "      <td>26.74</td>\n",
              "      <td>1.0</td>\n",
              "      <td>15171671182201601261037</td>\n",
              "    </tr>\n",
              "    <tr>\n",
              "      <th>3</th>\n",
              "      <td>7167</td>\n",
              "      <td>NaN</td>\n",
              "      <td>BRITISH COLUMBIA</td>\n",
              "      <td>SURREY</td>\n",
              "      <td>NaN</td>\n",
              "      <td>6e36648</td>\n",
              "      <td>7167</td>\n",
              "      <td>1.000000e+15</td>\n",
              "      <td>-1.0</td>\n",
              "      <td>2016-01-28</td>\n",
              "      <td>41.81</td>\n",
              "      <td>1.0</td>\n",
              "      <td>38671671182201601281326</td>\n",
              "    </tr>\n",
              "    <tr>\n",
              "      <th>4</th>\n",
              "      <td>7167</td>\n",
              "      <td>NaN</td>\n",
              "      <td>BRITISH COLUMBIA</td>\n",
              "      <td>SURREY</td>\n",
              "      <td>NaN</td>\n",
              "      <td>6e36648</td>\n",
              "      <td>7167</td>\n",
              "      <td>1.000000e+15</td>\n",
              "      <td>-1.0</td>\n",
              "      <td>2016-01-25</td>\n",
              "      <td>104.11</td>\n",
              "      <td>1.0</td>\n",
              "      <td>9571671182201601251443</td>\n",
              "    </tr>\n",
              "  </tbody>\n",
              "</table>\n",
              "</div>\n",
              "    <div class=\"colab-df-buttons\">\n",
              "\n",
              "  <div class=\"colab-df-container\">\n",
              "    <button class=\"colab-df-convert\" onclick=\"convertToInteractive('df-a7286978-612b-4767-9cfd-7d16cf4e2708')\"\n",
              "            title=\"Convert this dataframe to an interactive table.\"\n",
              "            style=\"display:none;\">\n",
              "\n",
              "  <svg xmlns=\"http://www.w3.org/2000/svg\" height=\"24px\" viewBox=\"0 -960 960 960\">\n",
              "    <path d=\"M120-120v-720h720v720H120Zm60-500h600v-160H180v160Zm220 220h160v-160H400v160Zm0 220h160v-160H400v160ZM180-400h160v-160H180v160Zm440 0h160v-160H620v160ZM180-180h160v-160H180v160Zm440 0h160v-160H620v160Z\"/>\n",
              "  </svg>\n",
              "    </button>\n",
              "\n",
              "  <style>\n",
              "    .colab-df-container {\n",
              "      display:flex;\n",
              "      gap: 12px;\n",
              "    }\n",
              "\n",
              "    .colab-df-convert {\n",
              "      background-color: #E8F0FE;\n",
              "      border: none;\n",
              "      border-radius: 50%;\n",
              "      cursor: pointer;\n",
              "      display: none;\n",
              "      fill: #1967D2;\n",
              "      height: 32px;\n",
              "      padding: 0 0 0 0;\n",
              "      width: 32px;\n",
              "    }\n",
              "\n",
              "    .colab-df-convert:hover {\n",
              "      background-color: #E2EBFA;\n",
              "      box-shadow: 0px 1px 2px rgba(60, 64, 67, 0.3), 0px 1px 3px 1px rgba(60, 64, 67, 0.15);\n",
              "      fill: #174EA6;\n",
              "    }\n",
              "\n",
              "    .colab-df-buttons div {\n",
              "      margin-bottom: 4px;\n",
              "    }\n",
              "\n",
              "    [theme=dark] .colab-df-convert {\n",
              "      background-color: #3B4455;\n",
              "      fill: #D2E3FC;\n",
              "    }\n",
              "\n",
              "    [theme=dark] .colab-df-convert:hover {\n",
              "      background-color: #434B5C;\n",
              "      box-shadow: 0px 1px 3px 1px rgba(0, 0, 0, 0.15);\n",
              "      filter: drop-shadow(0px 1px 2px rgba(0, 0, 0, 0.3));\n",
              "      fill: #FFFFFF;\n",
              "    }\n",
              "  </style>\n",
              "\n",
              "    <script>\n",
              "      const buttonEl =\n",
              "        document.querySelector('#df-a7286978-612b-4767-9cfd-7d16cf4e2708 button.colab-df-convert');\n",
              "      buttonEl.style.display =\n",
              "        google.colab.kernel.accessAllowed ? 'block' : 'none';\n",
              "\n",
              "      async function convertToInteractive(key) {\n",
              "        const element = document.querySelector('#df-a7286978-612b-4767-9cfd-7d16cf4e2708');\n",
              "        const dataTable =\n",
              "          await google.colab.kernel.invokeFunction('convertToInteractive',\n",
              "                                                    [key], {});\n",
              "        if (!dataTable) return;\n",
              "\n",
              "        const docLinkHtml = 'Like what you see? Visit the ' +\n",
              "          '<a target=\"_blank\" href=https://colab.research.google.com/notebooks/data_table.ipynb>data table notebook</a>'\n",
              "          + ' to learn more about interactive tables.';\n",
              "        element.innerHTML = '';\n",
              "        dataTable['output_type'] = 'display_data';\n",
              "        await google.colab.output.renderOutput(dataTable, element);\n",
              "        const docLink = document.createElement('div');\n",
              "        docLink.innerHTML = docLinkHtml;\n",
              "        element.appendChild(docLink);\n",
              "      }\n",
              "    </script>\n",
              "  </div>\n",
              "\n",
              "\n",
              "<div id=\"df-e7b0547a-23b9-4f6e-aff8-0a177773f5fc\">\n",
              "  <button class=\"colab-df-quickchart\" onclick=\"quickchart('df-e7b0547a-23b9-4f6e-aff8-0a177773f5fc')\"\n",
              "            title=\"Suggest charts.\"\n",
              "            style=\"display:none;\">\n",
              "\n",
              "<svg xmlns=\"http://www.w3.org/2000/svg\" height=\"24px\"viewBox=\"0 0 24 24\"\n",
              "     width=\"24px\">\n",
              "    <g>\n",
              "        <path d=\"M19 3H5c-1.1 0-2 .9-2 2v14c0 1.1.9 2 2 2h14c1.1 0 2-.9 2-2V5c0-1.1-.9-2-2-2zM9 17H7v-7h2v7zm4 0h-2V7h2v10zm4 0h-2v-4h2v4z\"/>\n",
              "    </g>\n",
              "</svg>\n",
              "  </button>\n",
              "\n",
              "<style>\n",
              "  .colab-df-quickchart {\n",
              "    background-color: #E8F0FE;\n",
              "    border: none;\n",
              "    border-radius: 50%;\n",
              "    cursor: pointer;\n",
              "    display: none;\n",
              "    fill: #1967D2;\n",
              "    height: 32px;\n",
              "    padding: 0 0 0 0;\n",
              "    width: 32px;\n",
              "  }\n",
              "\n",
              "  .colab-df-quickchart:hover {\n",
              "    background-color: #E2EBFA;\n",
              "    box-shadow: 0px 1px 2px rgba(60, 64, 67, 0.3), 0px 1px 3px 1px rgba(60, 64, 67, 0.15);\n",
              "    fill: #174EA6;\n",
              "  }\n",
              "\n",
              "  [theme=dark] .colab-df-quickchart {\n",
              "    background-color: #3B4455;\n",
              "    fill: #D2E3FC;\n",
              "  }\n",
              "\n",
              "  [theme=dark] .colab-df-quickchart:hover {\n",
              "    background-color: #434B5C;\n",
              "    box-shadow: 0px 1px 3px 1px rgba(0, 0, 0, 0.15);\n",
              "    filter: drop-shadow(0px 1px 2px rgba(0, 0, 0, 0.3));\n",
              "    fill: #FFFFFF;\n",
              "  }\n",
              "</style>\n",
              "\n",
              "  <script>\n",
              "    async function quickchart(key) {\n",
              "      const charts = await google.colab.kernel.invokeFunction(\n",
              "          'suggestCharts', [key], {});\n",
              "    }\n",
              "    (() => {\n",
              "      let quickchartButtonEl =\n",
              "        document.querySelector('#df-e7b0547a-23b9-4f6e-aff8-0a177773f5fc button');\n",
              "      quickchartButtonEl.style.display =\n",
              "        google.colab.kernel.accessAllowed ? 'block' : 'none';\n",
              "    })();\n",
              "  </script>\n",
              "</div>\n",
              "    </div>\n",
              "  </div>\n"
            ]
          },
          "metadata": {},
          "execution_count": 15
        }
      ]
    },
    {
      "cell_type": "code",
      "source": [
        "#Get MAX value from MERGED which is the Province with the maximum sales.\n",
        "\n",
        "max_row = merged.loc[merged['sales'].idxmax()]\n",
        "print(\"Row with maximum value:\\n\", max_row)"
      ],
      "metadata": {
        "colab": {
          "base_uri": "https://localhost:8080/"
        },
        "id": "g4Qn09U-8_iA",
        "outputId": "8be5ed54-21b6-442d-c888-4e44e716d0a6"
      },
      "execution_count": 16,
      "outputs": [
        {
          "output_type": "stream",
          "name": "stdout",
          "text": [
            "Row with maximum value:\n",
            " store_location_id                         9807\n",
            "region                                     NaN\n",
            "province                               ALBERTA\n",
            "city                                  EDMONTON\n",
            "postal_code                                NaN\n",
            "banner                                 6e36648\n",
            "store_num                                 9807\n",
            "product_id                   999999999999513.0\n",
            "customer_id                               -1.0\n",
            "trans_dt                            2015-04-20\n",
            "sales                                 43533.23\n",
            "units                                      2.0\n",
            "transaction_id       1493798075671201504201802\n",
            "Name: 19865, dtype: object\n"
          ]
        }
      ]
    },
    {
      "cell_type": "code",
      "source": [
        "#Get MIN value from MERGED which is the Province with the minimum sales.\n",
        "\n",
        "min_row = merged.loc[merged['sales'].idxmin()]\n",
        "print(\"Row with minimum value:\\n\", min_row)"
      ],
      "metadata": {
        "colab": {
          "base_uri": "https://localhost:8080/"
        },
        "id": "mMOMcTWx9IZd",
        "outputId": "73703122-72c7-404c-ea31-2f8606935221"
      },
      "execution_count": 17,
      "outputs": [
        {
          "output_type": "stream",
          "name": "stdout",
          "text": [
            "Row with minimum value:\n",
            " store_location_id                         9807\n",
            "region                                     NaN\n",
            "province                               ALBERTA\n",
            "city                                  EDMONTON\n",
            "postal_code                                NaN\n",
            "banner                                 6e36648\n",
            "store_num                                 9807\n",
            "product_id                   999999999999513.0\n",
            "customer_id                               -1.0\n",
            "trans_dt                            2015-05-12\n",
            "sales                                  -512.68\n",
            "units                                     -1.0\n",
            "transaction_id       1577998075671201505121532\n",
            "Name: 21275, dtype: object\n"
          ]
        }
      ]
    },
    {
      "cell_type": "markdown",
      "source": [
        "\n",
        "\n",
        "---\n",
        "\n"
      ],
      "metadata": {
        "id": "Vrw0Bvru3iYB"
      }
    },
    {
      "cell_type": "markdown",
      "source": [
        "To find the top performing provinces and stores based on their total sales."
      ],
      "metadata": {
        "id": "1TQ89hCh0Fr5"
      }
    },
    {
      "cell_type": "code",
      "source": [
        "# Group and aggregate sales by province and store on the basis of sum of sales\n",
        "\n",
        "province_store_performance = merged.groupby(['province', 'store_location_id'])['sales'].sum()\n",
        "\n",
        "top_provinces = province_store_performance.groupby('province').sum().sort_values(ascending=False).head(5)\n",
        "top_stores = province_store_performance.groupby('store_location_id').sum().sort_values(ascending=False).head(5)\n"
      ],
      "metadata": {
        "id": "yrBy8neJjlv6"
      },
      "execution_count": 18,
      "outputs": []
    },
    {
      "cell_type": "code",
      "source": [
        "top_provinces"
      ],
      "metadata": {
        "colab": {
          "base_uri": "https://localhost:8080/"
        },
        "id": "l8Z-7M0tjs6F",
        "outputId": "1258748a-e8af-47df-e15c-af36e34526af"
      },
      "execution_count": 19,
      "outputs": [
        {
          "output_type": "execute_result",
          "data": {
            "text/plain": [
              "province\n",
              "ONTARIO             2183276.40\n",
              "ALBERTA             1512522.37\n",
              "BRITISH COLUMBIA     275536.45\n",
              "MANITOBA             234435.60\n",
              "SASKATCHEWAN          54711.16\n",
              "Name: sales, dtype: float64"
            ]
          },
          "metadata": {},
          "execution_count": 19
        }
      ]
    },
    {
      "cell_type": "code",
      "source": [
        "top_stores"
      ],
      "metadata": {
        "colab": {
          "base_uri": "https://localhost:8080/"
        },
        "id": "sLqmDUQzjxXX",
        "outputId": "bf371293-b1f8-46ac-d4c3-2a0db6fe2a51"
      },
      "execution_count": 20,
      "outputs": [
        {
          "output_type": "execute_result",
          "data": {
            "text/plain": [
              "store_location_id\n",
              "9807    1030351.77\n",
              "8142     872304.40\n",
              "6973     600223.00\n",
              "1396     467581.28\n",
              "7296     385435.05\n",
              "Name: sales, dtype: float64"
            ]
          },
          "metadata": {},
          "execution_count": 20
        }
      ]
    },
    {
      "cell_type": "markdown",
      "source": [
        "\n",
        "\n",
        "---\n",
        "\n"
      ],
      "metadata": {
        "id": "L7_dlKdR3l3h"
      }
    },
    {
      "cell_type": "markdown",
      "source": [
        "To find and analyze yearly sales trends."
      ],
      "metadata": {
        "id": "pAHZ-b530ayv"
      }
    },
    {
      "cell_type": "code",
      "source": [
        "# Convert trans_dt to datetime and extract month and then group by total sum of sales\n",
        "\n",
        "final['trans_dt'] = pd.to_datetime(final['trans_dt'])\n",
        "final['month'] = final['trans_dt'].dt.month\n",
        "\n",
        "monthly_sales = final.groupby('month')['sales'].sum()\n",
        "monthly_sales"
      ],
      "metadata": {
        "colab": {
          "base_uri": "https://localhost:8080/"
        },
        "id": "rPDBjClLIZB0",
        "outputId": "4a4497f4-6ab6-46df-a54e-6ddd854ed65e"
      },
      "execution_count": 21,
      "outputs": [
        {
          "output_type": "execute_result",
          "data": {
            "text/plain": [
              "month\n",
              "1     225892.78\n",
              "2       9446.67\n",
              "3      32365.08\n",
              "4     767716.31\n",
              "5     390961.83\n",
              "6     433594.84\n",
              "7     348517.58\n",
              "8     551143.66\n",
              "9     371191.32\n",
              "10    399373.14\n",
              "11    354482.10\n",
              "12    375796.67\n",
              "Name: sales, dtype: float64"
            ]
          },
          "metadata": {},
          "execution_count": 21
        }
      ]
    },
    {
      "cell_type": "code",
      "source": [
        "# Create a line plot to visualize yearly sales patterns\n",
        "\n",
        "plt.figure(figsize=(10, 6))\n",
        "plt.plot(monthly_sales.index, monthly_sales.values, marker='o')\n",
        "plt.xlabel('Month')\n",
        "plt.ylabel('Total Sales')\n",
        "plt.title('Yearly Sales Patterns')\n",
        "plt.xticks(monthly_sales.index, ['Jan', 'Feb', 'Mar', 'Apr', 'May', 'Jun', 'Jul', 'Aug', 'Sep', 'Oct', 'Nov', 'Dec'])\n",
        "plt.grid(True)\n",
        "plt.show()"
      ],
      "metadata": {
        "colab": {
          "base_uri": "https://localhost:8080/",
          "height": 564
        },
        "id": "Ge_I-Gi9rqVO",
        "outputId": "51bb731a-f676-4af0-b1bd-10e619a43412"
      },
      "execution_count": 39,
      "outputs": [
        {
          "output_type": "display_data",
          "data": {
            "text/plain": [
              "<Figure size 1000x600 with 1 Axes>"
            ],
            "image/png": "[encoded data removed]"
          },
          "metadata": {}
        }
      ]
    },
    {
      "cell_type": "markdown",
      "source": [
        "\n",
        "\n",
        "---\n",
        "\n"
      ],
      "metadata": {
        "id": "_0JlocM7W-JI"
      }
    },
    {
      "cell_type": "markdown",
      "source": [
        "To find and analyze seasonal sales trends."
      ],
      "metadata": {
        "id": "EYXyrvrbVGUE"
      }
    },
    {
      "cell_type": "code",
      "source": [
        "# Import seaborn library for color palettes\n",
        "# Define seasons based on months\n",
        "# Apply the season function to the 'month' column and create a new column 'season'\n",
        "# Group and aggregate sales by season\n",
        "\n",
        "import seaborn as sns\n",
        "\n",
        "final['trans_dt'] = pd.to_datetime(final['trans_dt'])\n",
        "final['month'] = final['trans_dt'].dt.month\n",
        "\n",
        "def get_season(month):\n",
        "    if month in [12, 1, 2]:  # Winter: Dec, Jan, Feb\n",
        "        return 'Winter'\n",
        "    elif month in [3, 4, 5]:  # Spring: Mar, Apr, May\n",
        "        return 'Spring'\n",
        "    elif month in [6, 7, 8]:  # Summer: Jun, Jul, Aug\n",
        "        return 'Summer'\n",
        "    else:  # Fall: Sep, Oct, Nov\n",
        "        return 'Fall'\n",
        "\n",
        "final['season'] = final['month'].apply(get_season)\n",
        "\n",
        "seasonal_sales = final.groupby('season')['sales'].sum()\n",
        "seasonal_sales\n"
      ],
      "metadata": {
        "colab": {
          "base_uri": "https://localhost:8080/"
        },
        "id": "PaSJbjdJVF3h",
        "outputId": "0a09ab0e-2430-4103-e490-cef52b021c33"
      },
      "execution_count": 37,
      "outputs": [
        {
          "output_type": "execute_result",
          "data": {
            "text/plain": [
              "season\n",
              "Fall      1125046.56\n",
              "Spring    1191043.22\n",
              "Summer    1333256.08\n",
              "Winter     611136.12\n",
              "Name: sales, dtype: float64"
            ]
          },
          "metadata": {},
          "execution_count": 37
        }
      ]
    },
    {
      "cell_type": "code",
      "source": [
        "# Define a color palette for each season\n",
        "# Create a bar plot with the defined colors\n",
        "\n",
        "colors = ['blue', 'green', 'orange', 'red']\n",
        "\n",
        "plt.figure(figsize=(8, 6))\n",
        "sns.barplot(x=seasonal_sales.index, y=seasonal_sales.values, palette=colors)\n",
        "plt.title('Seasonal Sales Comparison')\n",
        "plt.xlabel('Season')\n",
        "plt.ylabel('Total Sales')\n",
        "plt.xticks(rotation=0)\n",
        "plt.grid()\n",
        "plt.show()"
      ],
      "metadata": {
        "colab": {
          "base_uri": "https://localhost:8080/",
          "height": 564
        },
        "id": "scno0oXsVevt",
        "outputId": "db41b459-2391-420d-bb8b-42ed4990a706"
      },
      "execution_count": 38,
      "outputs": [
        {
          "output_type": "display_data",
          "data": {
            "text/plain": [
              "<Figure size 800x600 with 1 Axes>"
            ],
            "image/png": "[encoded data removed]"
          },
          "metadata": {}
        }
      ]
    },
    {
      "cell_type": "markdown",
      "source": [
        "\n",
        "\n",
        "---\n",
        "\n"
      ],
      "metadata": {
        "id": "f0FrrW5LXBGT"
      }
    },
    {
      "cell_type": "markdown",
      "source": [
        "To find the top contributing product category according to total sales."
      ],
      "metadata": {
        "id": "2B-LMaag0kGs"
      }
    },
    {
      "cell_type": "code",
      "source": [
        "# Merge COMBINED_DF with PRODUCT to get category information\n",
        "# Group and aggregate sales by category\n",
        "# Get the top contributing product categories\n",
        "\n",
        "combined_with_category = pd.merge(final, prd[['product_id', 'category']], on='product_id', how='left')\n",
        "\n",
        "category_sales = combined_with_category.groupby('category')['sales'].sum()\n",
        "\n",
        "top_categories = category_sales.sort_values(ascending=False).head(5)\n",
        "top_categories"
      ],
      "metadata": {
        "colab": {
          "base_uri": "https://localhost:8080/"
        },
        "id": "w6KM4ElouqgL",
        "outputId": "0aa205f0-eeae-4e57-d0a8-2314f4f0b2ca"
      },
      "execution_count": 27,
      "outputs": [
        {
          "output_type": "execute_result",
          "data": {
            "text/plain": [
              "category\n",
              "fe148072    57546.44\n",
              "ffcec4a7    48485.95\n",
              "cef3760b    42988.05\n",
              "e49d14f1    38208.15\n",
              "687ed9e3    30999.53\n",
              "Name: sales, dtype: float64"
            ]
          },
          "metadata": {},
          "execution_count": 27
        }
      ]
    },
    {
      "cell_type": "code",
      "source": [
        "# Create a pie chart\n",
        "\n",
        "plt.figure(figsize=(8, 8))\n",
        "plt.pie(top_categories, labels=top_categories.index, autopct='%1.1f%%', startangle=140)\n",
        "plt.title('Top Contributing Product Categories to Sales')\n",
        "plt.show()"
      ],
      "metadata": {
        "colab": {
          "base_uri": "https://localhost:8080/",
          "height": 675
        },
        "id": "k2mDWCjRvAYD",
        "outputId": "d3158c02-2833-4ecd-8647-66cf005209a4"
      },
      "execution_count": 24,
      "outputs": [
        {
          "output_type": "display_data",
          "data": {
            "text/plain": [
              "<Figure size 800x800 with 1 Axes>"
            ],
            "image/png": "[encoded data removed]"
          },
          "metadata": {}
        }
      ]
    },
    {
      "cell_type": "code",
      "source": [
        "# Calculate the total sales of all other categories\n",
        "# Create a list of category names including 'Other'\n",
        "# Create a list of sales values including the 'Other' value\n",
        "\n",
        "other_categories_sales = category_sales.sum() - top_categories.sum()\n",
        "category_names = list(top_categories.index) + ['Other']\n",
        "sales_values = list(top_categories.values) + [other_categories_sales]\n",
        "\n",
        "# Create a pie chart\n",
        "plt.figure(figsize=(8, 8))\n",
        "plt.pie(sales_values, labels=category_names, autopct='%1.1f%%', startangle=140)\n",
        "plt.title('Top Contributing Product Categories to Sales')\n",
        "plt.show()\n"
      ],
      "metadata": {
        "colab": {
          "base_uri": "https://localhost:8080/",
          "height": 675
        },
        "id": "qhB693AYFtm5",
        "outputId": "0bbbaaa8-bbfb-4626-c86e-4ca3934346a0"
      },
      "execution_count": 28,
      "outputs": [
        {
          "output_type": "display_data",
          "data": {
            "text/plain": [
              "<Figure size 800x800 with 1 Axes>"
            ],
            "image/png": "[encoded data removed]"
          },
          "metadata": {}
        }
      ]
    },
    {
      "cell_type": "markdown",
      "source": [
        "\n",
        "\n",
        "---\n",
        "\n"
      ],
      "metadata": {
        "id": "wA8QvArw3pEd"
      }
    },
    {
      "cell_type": "markdown",
      "source": [
        "To visualize the store performances based on total sales."
      ],
      "metadata": {
        "id": "HrEOHgR_3Ntn"
      }
    },
    {
      "cell_type": "code",
      "source": [
        "# Calculate total sales for each store\n",
        "# Visualize store performance comparison\n",
        "\n",
        "store_performance = final.groupby('store_location_id')['sales'].sum()\n",
        "\n",
        "store_performance.sort_values(ascending=False).plot(kind='bar', color='purple', figsize=(10, 6), title='Store Performance Comparison')\n",
        "plt.xlabel('Store Location ID')\n",
        "plt.ylabel('Total Sales')\n"
      ],
      "metadata": {
        "colab": {
          "base_uri": "https://localhost:8080/",
          "height": 603
        },
        "id": "XVliJFww1CSn",
        "outputId": "8e46bdfb-2080-464f-ef7e-134b2679ac51"
      },
      "execution_count": 25,
      "outputs": [
        {
          "output_type": "execute_result",
          "data": {
            "text/plain": [
              "Text(0, 0.5, 'Total Sales')"
            ]
          },
          "metadata": {},
          "execution_count": 25
        },
        {
          "output_type": "display_data",
          "data": {
            "text/plain": [
              "<Figure size 1000x600 with 1 Axes>"
            ],
            "image/png": "[encoded data removed]"
          },
          "metadata": {}
        }
      ]
    },
    {
      "cell_type": "code",
      "source": [],
      "metadata": {
        "id": "BqoOhiFYUS3t"
      },
      "execution_count": 35,
      "outputs": []
    },
    {
      "cell_type": "markdown",
      "source": [
        "\n",
        "\n",
        "---\n",
        "\n"
      ],
      "metadata": {
        "id": "yebOcOuo3qdf"
      }
    },
    {
      "cell_type": "markdown",
      "source": [
        "## **THANK YOU!**"
      ],
      "metadata": {
        "id": "HmoeJtJn3HaH"
      }
    }
  ]
}